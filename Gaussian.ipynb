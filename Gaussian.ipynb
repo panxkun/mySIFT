{
 "cells": [
  {
   "cell_type": "code",
   "execution_count": 12,
   "metadata": {
    "collapsed": true
   },
   "outputs": [],
   "source": [
    "import cv2\n",
    "import numpy as np\n",
    "from matplotlib import pyplot as plt"
   ]
  },
  {
   "cell_type": "code",
   "execution_count": 17,
   "outputs": [],
   "source": [
    "u = 0\n",
    "v =0\n",
    "sigma = 0.6"
   ],
   "metadata": {
    "collapsed": false,
    "pycharm": {
     "name": "#%%\n"
    }
   }
  },
  {
   "cell_type": "code",
   "execution_count": 18,
   "outputs": [
    {
     "data": {
      "text/plain": "2"
     },
     "execution_count": 18,
     "metadata": {},
     "output_type": "execute_result"
    }
   ],
   "source": [
    "window = 5\n",
    "window_half = int(window/2)"
   ],
   "metadata": {
    "collapsed": false,
    "pycharm": {
     "name": "#%%\n"
    }
   }
  },
  {
   "cell_type": "code",
   "execution_count": 24,
   "outputs": [
    {
     "name": "stdout",
     "output_type": "stream",
     "text": [
      "[-2.0, -2.0, -2.0, -2.0, -2.0, -1.0, -1.0, -1.0, -1.0, -1.0, 0.0, 0.0, 0.0, 0.0, 0.0, 1.0, 1.0, 1.0, 1.0, 1.0, 2.0, 2.0, 2.0, 2.0, 2.0]\n",
      "[-2.0, -1.0, 0.0, 1.0, 2.0, -2.0, -1.0, 0.0, 1.0, 2.0, -2.0, -1.0, 0.0, 1.0, 2.0, -2.0, -1.0, 0.0, 1.0, 2.0, -2.0, -1.0, 0.0, 1.0, 2.0]\n"
     ]
    }
   ],
   "source": [
    "x = []\n",
    "y = []\n",
    "for row in np.linspace(-window_half,window_half,window):\n",
    "    for col in np.linspace(-window_half,window_half,window):\n",
    "        x.append(row)\n",
    "        y.append(col)\n",
    "\n",
    "print(x)\n",
    "print(y)\n",
    "\n",
    "x = np.asarray(x)\n",
    "y = np.asarray(y)"
   ],
   "metadata": {
    "collapsed": false,
    "pycharm": {
     "name": "#%%\n"
    }
   }
  },
  {
   "cell_type": "code",
   "execution_count": 29,
   "outputs": [
    {
     "data": {
      "text/plain": "array([6.60729028e-06, 4.26170838e-04, 1.70911194e-03, 4.26170838e-04,\n       6.60729028e-06, 4.26170838e-04, 2.74880587e-02, 1.10237879e-01,\n       2.74880587e-02, 4.26170838e-04, 1.70911194e-03, 1.10237879e-01,\n       4.42097064e-01, 1.10237879e-01, 1.70911194e-03, 4.26170838e-04,\n       2.74880587e-02, 1.10237879e-01, 2.74880587e-02, 4.26170838e-04,\n       6.60729028e-06, 4.26170838e-04, 1.70911194e-03, 4.26170838e-04,\n       6.60729028e-06])"
     },
     "execution_count": 29,
     "metadata": {},
     "output_type": "execute_result"
    }
   ],
   "source": [
    "g = np.exp(-((x - u)**2 + (y - v)**2)/(2*sigma**2))/(2*np.pi*sigma**2)\n",
    "\n",
    "g"
   ],
   "metadata": {
    "collapsed": false,
    "pycharm": {
     "name": "#%%\n"
    }
   }
  },
  {
   "cell_type": "code",
   "execution_count": 27,
   "outputs": [],
   "source": [
    "sum = np.sum(g)"
   ],
   "metadata": {
    "collapsed": false,
    "pycharm": {
     "name": "#%%\n"
    }
   }
  },
  {
   "cell_type": "code",
   "execution_count": 30,
   "outputs": [],
   "source": [
    "win = g/sum"
   ],
   "metadata": {
    "collapsed": false,
    "pycharm": {
     "name": "#%%\n"
    }
   }
  },
  {
   "cell_type": "code",
   "execution_count": 31,
   "outputs": [
    {
     "data": {
      "text/plain": "array([6.58573478e-06, 4.24780506e-04, 1.70353617e-03, 4.24780506e-04,\n       6.58573478e-06, 4.24780506e-04, 2.73983822e-02, 1.09878241e-01,\n       2.73983822e-02, 4.24780506e-04, 1.70353617e-03, 1.09878241e-01,\n       4.40654774e-01, 1.09878241e-01, 1.70353617e-03, 4.24780506e-04,\n       2.73983822e-02, 1.09878241e-01, 2.73983822e-02, 4.24780506e-04,\n       6.58573478e-06, 4.24780506e-04, 1.70353617e-03, 4.24780506e-04,\n       6.58573478e-06])"
     },
     "execution_count": 31,
     "metadata": {},
     "output_type": "execute_result"
    }
   ],
   "source": [
    "win"
   ],
   "metadata": {
    "collapsed": false,
    "pycharm": {
     "name": "#%%\n"
    }
   }
  },
  {
   "cell_type": "code",
   "execution_count": 38,
   "outputs": [],
   "source": [
    "from Gaussian import Gaussian_Kernel\n",
    "\n",
    "kernel = Gaussian_Kernel(0.6,5)"
   ],
   "metadata": {
    "collapsed": false,
    "pycharm": {
     "name": "#%%\n"
    }
   }
  },
  {
   "cell_type": "code",
   "execution_count": 40,
   "outputs": [
    {
     "data": {
      "text/plain": "0.440654774427448"
     },
     "execution_count": 40,
     "metadata": {},
     "output_type": "execute_result"
    }
   ],
   "source": [
    "kernel[2][2]"
   ],
   "metadata": {
    "collapsed": false,
    "pycharm": {
     "name": "#%%\n"
    }
   }
  },
  {
   "cell_type": "code",
   "execution_count": null,
   "outputs": [],
   "source": [],
   "metadata": {
    "collapsed": false,
    "pycharm": {
     "name": "#%%\n"
    }
   }
  }
 ],
 "metadata": {
  "kernelspec": {
   "display_name": "Python 3",
   "language": "python",
   "name": "python3"
  },
  "language_info": {
   "codemirror_mode": {
    "name": "ipython",
    "version": 2
   },
   "file_extension": ".py",
   "mimetype": "text/x-python",
   "name": "python",
   "nbconvert_exporter": "python",
   "pygments_lexer": "ipython2",
   "version": "2.7.6"
  }
 },
 "nbformat": 4,
 "nbformat_minor": 0
}